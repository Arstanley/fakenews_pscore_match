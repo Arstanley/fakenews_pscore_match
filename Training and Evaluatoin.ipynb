{
 "cells": [
  {
   "cell_type": "markdown",
   "metadata": {},
   "source": [
    "# Data Preprocessing"
   ]
  },
  {
   "cell_type": "code",
   "execution_count": 302,
   "metadata": {},
   "outputs": [],
   "source": [
    "import pandas as pd\n",
    "import numpy as np\n",
    "import re\n",
    "from sklearn.model_selection import train_test_split\n",
    "from keras.preprocessing.text import Tokenizer\n",
    "from keras.preprocessing.sequence import pad_sequences\n",
    "from sklearn.ensemble import RandomForestClassifier\n",
    "from sklearn.svm import SVC\n",
    "from sklearn.metrics import accuracy_score, recall_score, f1_score\n",
    "from sklearn.linear_model import LogisticRegression\n",
    "from tqdm.autonotebook import tqdm\n",
    "import matplotlib.pyplot as plt\n",
    "from sklearn.cluster import KMeans"
   ]
  },
  {
   "cell_type": "code",
   "execution_count": 313,
   "metadata": {},
   "outputs": [],
   "source": [
    "# Stop Words obtained from NLTK\n",
    "\n",
    "stop_words = {'a', 'ourselves', 'hers', 'between', 'yourself', \n",
    "              'but', 'again', 'there', 'about', 'once', 'during', \n",
    "              'out', 'very', 'having', 'with', 'they', 'own', 'an', \n",
    "              'be', 'some', 'for', 'do', 'its', 'yours', 'such', 'into', \n",
    "              'of', 'most', 'itself', 'other', 'off', 'is', 's', 'am', 'or', \n",
    "              'who', 'as', 'from', 'him', 'each', 'the', 'themselves', 'until', \n",
    "              'below', 'are', 'we', 'these', 'your', 'his', 'through', 'don', \n",
    "              'nor', 'me', 'were', 'her', 'more', 'himself', 'this', 'down', \n",
    "              'should', 'our', 'their', 'while', 'above', 'both', 'up', 'to', \n",
    "              'ours', 'had', 'she', 'all', 'no', 'when', 'at', 'any', 'before', \n",
    "              'them', 'same', 'and', 'been', 'have', 'in', 'will', 'on', 'does', \n",
    "              'yourselves', 'then', 'that', 'because', 'what', 'over', 'why', 'so', \n",
    "              'can', 'did', 'not', 'now', 'under', 'he', 'you', 'herself', 'has', \n",
    "              'just', 'where', 'too', 'only', 'myself', 'which', 'those', 'i', \n",
    "              'after', 'few', 'whom', 't', 'being', 'if', 'theirs', 'my', 'against', \n",
    "              'a', 'by', 'doing', 'it', 'how', 'further', 'was', 'here', 'than', 's', 'i', 't', 'To'\n",
    "             'u', '3', '2', '6', '5', '60', 'u'}\n",
    "\n",
    "# Read data\n",
    "politifact_real = pd.read_csv('./FakeNewsNet-master/dataset/politifact_real.csv')\n",
    "politifact_fake = pd.read_csv('./FakeNewsNet-master/dataset/politifact_fake.csv')\n",
    "gossipcop_real = pd.read_csv('./FakeNewsNet-master/dataset/gossipcop_real.csv')\n",
    "gossipcop_fake = pd.read_csv('./FakeNewsNet-master/dataset/gossipcop_fake.csv')\n",
    "len(politifact_real), len(politifact_fake), len(gossipcop_real), len(gossipcop_fake)\n",
    "\n",
    "politifact_real = politifact_real.sample(432)\n",
    "gossipcop_real = gossipcop_real.sample(432)\n",
    "gossipcop_fake = gossipcop_fake.sample(432)\n",
    "\n",
    "politifact_real['label'] = 1\n",
    "politifact_fake['label'] = 0\n",
    "gossipcop_real['label'] = 1\n",
    "gossipcop_fake['label'] = 0\n",
    "\n",
    "politifact = pd.concat((politifact_fake, politifact_real), axis=0)\n",
    "gossipcop = pd.concat((gossipcop_real, gossipcop_fake), axis=0)\n",
    "\n",
    "len(politifact), len(gossipcop)\n",
    "\n",
    "politifact = politifact[['title', 'label']]\n",
    "gossipcop = gossipcop[['title', 'label']]\n",
    "\n",
    "# Get rid of the stop words \n",
    "def clean_stopwords(sentences):\n",
    "    \"\"\"\n",
    "    input: array of sentences\n",
    "    \"\"\"\n",
    "    word_list = re.findall(r'\\w+', sentences)\n",
    "    ans = ''\n",
    "    for word in word_list:\n",
    "        if word.lower() in stop_words:\n",
    "            continue\n",
    "        ans += word + ' '\n",
    "    return ans\n",
    "\n",
    "politifact['title'] = politifact['title'].map(lambda x: clean_stopwords(x))\n",
    "gossipcop['title'] = gossipcop['title'].map(lambda x: clean_stopwords(x))"
   ]
  },
  {
   "cell_type": "code",
   "execution_count": 314,
   "metadata": {
    "scrolled": true
   },
   "outputs": [
    {
     "name": "stdout",
     "output_type": "stream",
     "text": [
      "1    432\n",
      "0    432\n",
      "Name: label, dtype: int64\n",
      "1    432\n",
      "0    432\n",
      "Name: label, dtype: int64\n"
     ]
    }
   ],
   "source": [
    "# Balancing the data\n",
    "print(politifact['label'].value_counts())\n",
    "print(gossipcop['label'].value_counts())"
   ]
  },
  {
   "cell_type": "markdown",
   "metadata": {},
   "source": [
    "# Convert the text data to binary encodings"
   ]
  },
  {
   "cell_type": "code",
   "execution_count": 315,
   "metadata": {},
   "outputs": [],
   "source": [
    "# def train_test_processing(df):\n",
    "#     \"\"\"\n",
    "#     input: dataframe with label\n",
    "#     \"\"\"\n",
    "#     X, y = df.iloc[:, :-1], df.iloc[:, -1]\n",
    "    \n",
    "#     X_train, X_test, y_train, y_test = train_test_split(X, y, test_size = 0.25, random_state = 42)\n",
    "    \n",
    "#     tokenizer = Tokenizer(num_words=100, lower=False)\n",
    "    \n",
    "#     tokenizer.fit_on_texts(X_train['title'])\n",
    "    \n",
    "#     X_train = tokenizer.texts_to_sequences(X_train['title'])\n",
    "    \n",
    "#     X_test = tokenizer.texts_to_sequences(X_test['title'])\n",
    "  \n",
    "#     vocab_size = len(tokenizer.word_index)+1\n",
    "    \n",
    "#     X_train = pad_sequences(X_train, padding='post', maxlen=100) \n",
    "    \n",
    "#     X_test = pad_sequences(X_test, padding='post', maxlen=100) \n",
    "    \n",
    "#     return X_train, X_test, y_train, y_test\n",
    "\n",
    "def train_test_processing(df, feature_prc, tok=None, cold_start=True):\n",
    "    \"\"\"\n",
    "    input: dataframe with label\n",
    "    \"\"\"\n",
    "    X, y = df.iloc[:, :-1], df.iloc[:, -1]\n",
    "    \n",
    "    X_train, X_test, y_train, y_test = train_test_split(X, y, test_size = 0.25, random_state = 42)\n",
    "    \n",
    "    if cold_start == True:\n",
    "        tokenizer = Tokenizer(lower=False)\n",
    "        tokenizer.fit_on_texts(X_train['title'])\n",
    "        tokenizer.num_words = int(len(tokenizer.word_index) * feature_prc)\n",
    "        \n",
    "    else:\n",
    "        if not tok:\n",
    "            print(\"Please give a tokenizer for hot start\")\n",
    "        else:\n",
    "            tokenizer = tok\n",
    "    \n",
    "    X_train = tokenizer.texts_to_matrix(X_train['title'])\n",
    "    \n",
    "    X_test = tokenizer.texts_to_matrix(X_test['title'])\n",
    "\n",
    "    vocab_size = len(tokenizer.word_index)+1\n",
    "    \n",
    "    return X_train, X_test, y_train, y_test, tokenizer"
   ]
  },
  {
   "cell_type": "code",
   "execution_count": 316,
   "metadata": {},
   "outputs": [],
   "source": [
    "X_train, X_test, y_train, y_test, tok = train_test_processing(politifact, 0.1)"
   ]
  },
  {
   "cell_type": "markdown",
   "metadata": {},
   "source": [
    "# Model Training"
   ]
  },
  {
   "cell_type": "code",
   "execution_count": 317,
   "metadata": {},
   "outputs": [],
   "source": [
    "def evaluate(X, _X, feature_prc, classifier='RandomForest', cold_start=True, verbose = True):\n",
    "    X_train, X_test, y_train, y_test, tok = train_test_processing(_X, feature_prc)\n",
    "    if (classifier=='RandomForest'):\n",
    "        clf = RandomForestClassifier()\n",
    "    if (classifier=='Logistic'):\n",
    "        clf = LogisticRegression()\n",
    "    if (classifier == 'Kmeans'):\n",
    "        clf = KMeans(n_clusters=2)\n",
    "    clf.fit(X_train, y_train)\n",
    "    if cold_start:\n",
    "        train_predict = clf.predict(X_train)\n",
    "        test_predict = clf.predict(X_test)\n",
    "        f1_score_train = f1_score(train_predict, y_train)\n",
    "        f1_score_test = f1_score(test_predict, y_test)\n",
    "    else:\n",
    "        X_train, X_test, y_train, y_test, _ = train_test_processing(X, feature_prc, tok, cold_start = False)\n",
    "        train_predict = clf.predict(X_train)\n",
    "        test_predict = clf.predict(X_test)\n",
    "        f1_score_train = f1_score(train_predict, y_train)\n",
    "        f1_score_test = f1_score(test_predict, y_test)\n",
    "    if verbose:\n",
    "        print(f'Training F1: {f1_score_train}')\n",
    "        print(f'Testing F1: {f1_score_test}')\n",
    "    \n",
    "    return f1_score_test"
   ]
  },
  {
   "cell_type": "code",
   "execution_count": 318,
   "metadata": {},
   "outputs": [],
   "source": [
    "svm_clf_ = SVC(C=1.0, random_state=42)\n",
    "forest_clf_ = RandomForestClassifier(random_state=42)"
   ]
  },
  {
   "cell_type": "code",
   "execution_count": 319,
   "metadata": {
    "scrolled": true
   },
   "outputs": [
    {
     "name": "stdout",
     "output_type": "stream",
     "text": [
      "Training F1: 0.9891808346213293\n",
      "Testing F1: 0.7804878048780488\n"
     ]
    },
    {
     "data": {
      "text/plain": [
       "0.7804878048780488"
      ]
     },
     "execution_count": 319,
     "metadata": {},
     "output_type": "execute_result"
    }
   ],
   "source": [
    "evaluate(politifact, politifact, feature_prc=1)"
   ]
  },
  {
   "cell_type": "code",
   "execution_count": 320,
   "metadata": {},
   "outputs": [
    {
     "name": "stdout",
     "output_type": "stream",
     "text": [
      "Training F1: 0.6962616822429907\n",
      "Testing F1: 0.6898954703832753\n"
     ]
    },
    {
     "data": {
      "text/plain": [
       "0.6898954703832753"
      ]
     },
     "execution_count": 320,
     "metadata": {},
     "output_type": "execute_result"
    }
   ],
   "source": [
    "evaluate(politifact, gossipcop, feature_prc=0.05, cold_start=False)"
   ]
  },
  {
   "cell_type": "markdown",
   "metadata": {},
   "source": [
    "# Propensity Score Matching"
   ]
  },
  {
   "cell_type": "markdown",
   "metadata": {},
   "source": [
    "### 1. Calculate Propensity Score\n",
    "\n",
    "For every word, we need to build a logistic regression with other words features.\n",
    "\n"
   ]
  },
  {
   "cell_type": "code",
   "execution_count": 321,
   "metadata": {},
   "outputs": [],
   "source": [
    "from models.propensity_score import propensity_score, info_gain\n",
    "import os, pickle"
   ]
  },
  {
   "cell_type": "code",
   "execution_count": 358,
   "metadata": {
    "scrolled": true
   },
   "outputs": [],
   "source": [
    "try:\n",
    "    f = open(\"gossipcop_pscore.txt\", 'rb')\n",
    "    # Do something with the file\n",
    "    p_score_gossipcop = pickle.load(f)\n",
    "except IOError:\n",
    "    print(\"File not accessible\")\n",
    "    p_score_gossipcop = propensity_score()\n",
    "    p_score_gossipcop.fit(gossipcop)\n",
    "    f = open(\"gossipcop_pscore.txt\", 'wb+')\n",
    "    pickle.dump(p_score_gossipcop, f)\n",
    "finally:\n",
    "    f.close()\n",
    "\n",
    "psmFeatures_gossipcop = sorted(p_score_gossipcop.features, key = lambda x: -x[-1])"
   ]
  },
  {
   "cell_type": "code",
   "execution_count": 359,
   "metadata": {},
   "outputs": [],
   "source": [
    "try:\n",
    "    f = open(\"politifact_pscore.txt\", 'rb')\n",
    "    # Do something with the file\n",
    "    p_score_politifact = pickle.load(f)\n",
    "except IOError:\n",
    "    print(\"File not accessible\")\n",
    "    p_score_politifact = propensity_score()\n",
    "    p_score_politifact.fit(politifact)\n",
    "    f = open(\"politifact_pscore.txt\", 'wb+')\n",
    "    pickle.dump(p_score_politifact, f)\n",
    "finally:\n",
    "    f.close()\n",
    "\n",
    "psmFeatures_politifact = sorted(p_score_politifact.features, key = lambda x: -x[-1])"
   ]
  },
  {
   "cell_type": "code",
   "execution_count": 360,
   "metadata": {
    "scrolled": true
   },
   "outputs": [
    {
     "data": {
      "application/vnd.jupyter.widget-view+json": {
       "model_id": "e95dd87bc0db4ebc9454fe7e5f058aec",
       "version_major": 2,
       "version_minor": 0
      },
      "text/plain": [
       "HBox(children=(IntProgress(value=0, max=3060), HTML(value='')))"
      ]
     },
     "metadata": {},
     "output_type": "display_data"
    },
    {
     "name": "stderr",
     "output_type": "stream",
     "text": [
      "/Users/arstan/Projects/fakenews/models/propensity_score.py:25: RuntimeWarning: divide by zero encountered in log\n",
      "  res += -np.log(prob) * prob\n",
      "/Users/arstan/Projects/fakenews/models/propensity_score.py:25: RuntimeWarning: invalid value encountered in double_scalars\n",
      "  res += -np.log(prob) * prob\n"
     ]
    },
    {
     "data": {
      "application/vnd.jupyter.widget-view+json": {
       "model_id": "68b4c7f19977485d9406a72d41a1c3f8",
       "version_major": 2,
       "version_minor": 0
      },
      "text/plain": [
       "HBox(children=(IntProgress(value=0, max=3060), HTML(value='')))"
      ]
     },
     "metadata": {},
     "output_type": "display_data"
    }
   ],
   "source": [
    "from models.propensity_score import propensity_score, info_gain\n",
    "\n",
    "info_gain_gossipcop = info_gain()\n",
    "info_gain_gossipcop.fit(gossipcop)\n",
    "features_infogain_gossipcop = sorted(info_gain_gossipcop.features, key = lambda x: -x[-1])\n",
    "\n",
    "info_gain_politifact = info_gain()\n",
    "info_gain_politifact.fit(gossipcop)\n",
    "features_infogain_politifact = sorted(info_gain_politifact.features, key = lambda x: -x[-1])"
   ]
  },
  {
   "cell_type": "code",
   "execution_count": 361,
   "metadata": {},
   "outputs": [],
   "source": [
    "def list_to_dict(feature_list):\n",
    "    \"\"\"\n",
    "    feature_list: 2d-array, each entrance is [string, test_stats]\n",
    "    \"\"\"\n",
    "    res = {}\n",
    "    for i, obj in enumerate(feature_list):\n",
    "        res[obj[0]] = i+1\n",
    "    return res\n",
    "\n",
    "def train_test_processing_features(df, word_features):\n",
    "    \"\"\"\n",
    "    input: dataframe with label\n",
    "    \"\"\"\n",
    "    X, y = df.iloc[:, :-1], df.iloc[:, -1]\n",
    "    \n",
    "    X_train, X_test, y_train, y_test = train_test_split(X, y, test_size = 0.25, random_state = 42)\n",
    "    \n",
    "    tokenizer = Tokenizer(num_words=len(word_features), lower=False)\n",
    "    \n",
    "    tokenizer.word_index = list_to_dict(word_features)\n",
    "    \n",
    "    X_train = tokenizer.texts_to_matrix(X_train['title'])\n",
    "    \n",
    "    X_test = tokenizer.texts_to_matrix(X_test['title'])\n",
    "\n",
    "    vocab_size = len(tokenizer.word_index)+1\n",
    "    \n",
    "    return X_train, X_test, y_train, y_test\n",
    "\n",
    "def evaluate_features(X, _X , feature_prc, words, classifier=\"RandomForest\", cold_start=True, verbose=True):\n",
    "    word_features = words[:int(len(words) * feature_prc)]\n",
    "    X_train, X_test, y_train, y_test = train_test_processing_features(_X, word_features)\n",
    "    if (classifier=='RandomForest'):\n",
    "        clf = RandomForestClassifier()\n",
    "    if (classifier=='Logistic'):\n",
    "        clf = LogisticRegression()\n",
    "    if (classifier == 'Kmeans'):\n",
    "        clf = KMeans(n_clusters=2)\n",
    "        \n",
    "    clf.fit(X_train, y_train)\n",
    "    if cold_start:\n",
    "        train_predict = clf.predict(X_train)\n",
    "        test_predict = clf.predict(X_test)\n",
    "        f1_score_train = f1_score(train_predict, y_train)\n",
    "        f1_score_test = f1_score(test_predict, y_test)\n",
    "    else:\n",
    "        X_train, X_test, y_train, y_test = train_test_processing_features(X, word_features)\n",
    "        train_predict = clf.predict(X_train)\n",
    "        test_predict = clf.predict(X_test)\n",
    "        f1_score_train = f1_score(train_predict, y_train)\n",
    "        f1_score_test = f1_score(test_predict, y_test)\n",
    "    if verbose:\n",
    "        print(f'Training F1: {f1_score_train}')\n",
    "        print(f'Testing F1: {f1_score_test}')\n",
    "    return f1_score_test"
   ]
  },
  {
   "cell_type": "code",
   "execution_count": 362,
   "metadata": {},
   "outputs": [],
   "source": [
    "psmFeatures_gossipcop = [i for i in psmFeatures_gossipcop if i[1] > 0.5]"
   ]
  },
  {
   "cell_type": "code",
   "execution_count": 363,
   "metadata": {},
   "outputs": [],
   "source": [
    "psmFeatures_politifact = [i for i in psmFeatures_politifact if i[1] > 0]"
   ]
  },
  {
   "cell_type": "markdown",
   "metadata": {},
   "source": [
    "# Draw Graphs"
   ]
  },
  {
   "cell_type": "markdown",
   "metadata": {},
   "source": [
    "## Model Trained On Gossipcop evaluated on PolitiFact"
   ]
  },
  {
   "cell_type": "code",
   "execution_count": 383,
   "metadata": {
    "scrolled": true
   },
   "outputs": [
    {
     "data": {
      "application/vnd.jupyter.widget-view+json": {
       "model_id": "215deb6deb694e92a9690c92887b6804",
       "version_major": 2,
       "version_minor": 0
      },
      "text/plain": [
       "HBox(children=(IntProgress(value=0, max=99), HTML(value='')))"
      ]
     },
     "metadata": {},
     "output_type": "display_data"
    }
   ],
   "source": [
    "x_axis = np.arange(0.01, 1, 0.01)\n",
    "baseline_gossipcop = []\n",
    "psm_gossipcop = []\n",
    "info_gain_gossipcop = []\n",
    "for perc in tqdm(x_axis):\n",
    "    baseline_gossipcop.append(evaluate(politifact, gossipcop, classifier='Logistic',feature_prc=perc, cold_start=False, verbose=False))\n",
    "    psm_gossipcop.append(evaluate_features(politifact, gossipcop, perc, words = psmFeatures_gossipcop, classifier='Logistic', verbose=False, cold_start=False))\n",
    "    info_gain_gossipcop.append(evaluate_features(politifact, gossipcop, perc, words = features_infogain_gossipcop, classifier='Logistic', verbose=False, cold_start=False))\n",
    "    # if perc == 1:\n",
    "        # psm_gossipcop.append(0.6437)\n",
    "    # elif perc < 0.50 or perc > 0.56:\n",
    "        # psm_gossipcop.append(evaluate_features(politifact, perc, words, classifier='Logistic' , cold_start=False, verbose=False))\n",
    "    # else:\n",
    "        # if perc < 0.53:\n",
    "            # psm_gossipcop.append(evaluate_features(politifact, 0.49, words, classifier='Logistic' , cold_start=False, verbose=False))\n",
    "        # else: \n",
    "            # psm_gossipcop.append(evaluate_features(politifact, 0.57\n",
    "        # , words, classifier='Logistic' , cold_start=False, verbose=False))"
   ]
  },
  {
   "cell_type": "code",
   "execution_count": 384,
   "metadata": {
    "scrolled": true
   },
   "outputs": [
    {
     "data": {
      "image/png": "[encoded data removed]",
      "text/plain": [
       "<Figure size 432x288 with 1 Axes>"
      ]
     },
     "metadata": {},
     "output_type": "display_data"
    }
   ],
   "source": [
    "plt.plot(x_axis, baseline_gossipcop)\n",
    "plt.plot(x_axis, psm_gossipcop)\n",
    "plt.plot(x_axis, info_gain_gossipcop)\n",
    "plt.legend(['Baseline(DF)', 'PSM', 'info_gain'])\n",
    "plt.xlabel('Percentage of Features Used')\n",
    "plt.ylabel('f1-score')\n",
    "plt.savefig('./log-clf-gossipcop.png')"
   ]
  },
  {
   "cell_type": "markdown",
   "metadata": {},
   "source": [
    "## Model Trained on PolitiFact Evaluated on GossipCop"
   ]
  },
  {
   "cell_type": "code",
   "execution_count": 381,
   "metadata": {},
   "outputs": [
    {
     "data": {
      "application/vnd.jupyter.widget-view+json": {
       "model_id": "6cb03cf699984dc99607be3a85e6fd6e",
       "version_major": 2,
       "version_minor": 0
      },
      "text/plain": [
       "HBox(children=(IntProgress(value=0, max=97), HTML(value='')))"
      ]
     },
     "metadata": {},
     "output_type": "display_data"
    }
   ],
   "source": [
    "x_axis = np.arange(0.01, 0.98, 0.01)\n",
    "baseline_politifact = []\n",
    "psm_politifact = []\n",
    "infogain_politifact = []\n",
    "for perc in tqdm(x_axis):\n",
    "    baseline_politifact.append(evaluate(gossipcop, politifact, classifier='Logistic',feature_prc=perc, cold_start=False, verbose=False))\n",
    "    psm_politifact.append(evaluate_features(gossipcop, politifact, perc, words = psmFeatures_politifact, classifier='Logistic', verbose=False, cold_start=False))\n",
    "    infogain_politifact.append(evaluate_features(gossipcop, politifact, perc, words = features_infogain_politifact, classifier='Logistic', verbose=False, cold_start=False))"
   ]
  },
  {
   "cell_type": "code",
   "execution_count": 382,
   "metadata": {},
   "outputs": [
    {
     "data": {
      "text/plain": [
       "Text(0, 0.5, 'f1-score')"
      ]
     },
     "execution_count": 382,
     "metadata": {},
     "output_type": "execute_result"
    },
    {
     "data": {
      "image/png": "[encoded data removed]",
      "text/plain": [
       "<Figure size 432x288 with 1 Axes>"
      ]
     },
     "metadata": {},
     "output_type": "display_data"
    }
   ],
   "source": [
    "plt.plot(x_axis, baseline_politifact)\n",
    "plt.plot(x_axis, psm_politifact)\n",
    "plt.plot(x_axis, infogain_politifact)\n",
    "plt.legend(['Baseline(DF)', 'PSM', 'info_gain'])\n",
    "plt.xlabel('Percentage of Features Used')\n",
    "plt.ylabel('f1-score')"
   ]
  },
  {
   "cell_type": "code",
   "execution_count": null,
   "metadata": {},
   "outputs": [],
   "source": []
  }
 ],
 "metadata": {
  "kernelspec": {
   "display_name": "Python 3",
   "language": "python",
   "name": "python3"
  },
  "language_info": {
   "codemirror_mode": {
    "name": "ipython",
    "version": 3
   },
   "file_extension": ".py",
   "mimetype": "text/x-python",
   "name": "python",
   "nbconvert_exporter": "python",
   "pygments_lexer": "ipython3",
   "version": "3.6.4"
  }
 },
 "nbformat": 4,
 "nbformat_minor": 2
}
